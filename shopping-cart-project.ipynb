{
 "cells": [
  {
   "cell_type": "markdown",
   "id": "f9c5c9b7",
   "metadata": {},
   "source": [
    "# Python Shopping Cart"
   ]
  },
  {
   "cell_type": "markdown",
   "id": "a484d294",
   "metadata": {},
   "source": [
    "### Build a shopping cart program with the following capabilities:\n",
    "\n",
    "#### 1) Takes in an input\n",
    "#### 2) Stores user input into a dictionary or list\n",
    "#### 3) The User can add or delete items\n",
    "#### 4) The User can see current shopping list\n",
    "#### 5) The program Loops until user 'quits'\n",
    "#### 6) Upon quiting the program, prints out a receipt of the items with total and quantity.\n"
   ]
  },
  {
   "cell_type": "code",
   "execution_count": null,
   "id": "1681eaf0",
   "metadata": {},
   "outputs": [
    {
     "name": "stdout",
     "output_type": "stream",
     "text": [
      "Welcome to Usama's Store!\n"
     ]
    }
   ],
   "source": [
    "from IPython.display import clear_output\n",
    "\n",
    "def shopping_cart(quantity, item, price):\n",
    "    \n",
    "    add_to_cart = {} \n",
    "    \n",
    "print(\"Welcome to Usama's Store!\")\n",
    " \n",
    "while True:\n",
    "    \n",
    "  \n",
    "        ask = input(\"Would you like to add/remove/show/quit? \")\n",
    "    \n",
    "        if ask not in {'add', 'remove', 'show', 'quit'}:\n",
    "            ask = input(\"Not a valid response! Please respond with add, remove, show, or quit. \")    \n",
    "\n",
    " \n",
    "        if ask == 'add':\n",
    "            item = input(\" What would you like to add? \")\n",
    "            clear_output()\n",
    "            price = float(input(\"How much does it cost? \"))\n",
    "            clear_output()\n",
    "            quantity = int(input(\"How many would you like to add to cart? \"))\n",
    "            clear_output()\n",
    "            add_to_cart[item] = price, quantity\n",
    "            print(f\" {quantity} {item}s have been added to your cart for ${price:.2f} each.\")\n",
    " \n",
    "        if ask == 'show':\n",
    "            print(\"What your cart contains so far: \")\n",
    "            for item in add_to_cart:\n",
    "                print(f\" {quantity} {item}s x ${price:.2f}\")\n",
    "                total_price += {price}\n",
    "                print(total_price)\n",
    " \n",
    "        if ask == 'remove':\n",
    "            trash = input(\"What would you like to remove?  \")\n",
    "            add_to_cart.pop(trash)\n",
    " \n",
    "        if ask == 'quit':\n",
    "            ask = input(\"Are you sure? Once abandoned, this cart can't be brought back! Type 'y' or 'n' \")\n",
    "            if ask not in {'add', 'remove', 'show', 'quit'}:\n",
    "                ask = input(\"Not a valid response! Please respond with 'y' or 'n' \")    \n",
    "\n",
    "            if ask == 'n':\n",
    "                continue\n",
    "            if ask == 'y':\n",
    "                add_to_cart.clear()\n",
    "                total = 0\n",
    "                print (\"See you again soon! Goodbye.\")\n",
    "            break\n",
    "        \n"
   ]
  },
  {
   "cell_type": "code",
   "execution_count": null,
   "id": "e7ceaa70",
   "metadata": {},
   "outputs": [],
   "source": []
  },
  {
   "cell_type": "code",
   "execution_count": null,
   "id": "e51a0274",
   "metadata": {},
   "outputs": [],
   "source": []
  },
  {
   "cell_type": "code",
   "execution_count": null,
   "id": "d78e9fab",
   "metadata": {},
   "outputs": [],
   "source": []
  }
 ],
 "metadata": {
  "kernelspec": {
   "display_name": "Python 3 (ipykernel)",
   "language": "python",
   "name": "python3"
  },
  "language_info": {
   "codemirror_mode": {
    "name": "ipython",
    "version": 3
   },
   "file_extension": ".py",
   "mimetype": "text/x-python",
   "name": "python",
   "nbconvert_exporter": "python",
   "pygments_lexer": "ipython3",
   "version": "3.9.12"
  }
 },
 "nbformat": 4,
 "nbformat_minor": 5
}
